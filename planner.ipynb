{
 "cells": [
  {
   "cell_type": "code",
   "execution_count": 1,
   "metadata": {},
   "outputs": [
    {
     "data": {
      "application/vnd.jupyter.widget-view+json": {
       "model_id": "a1346c8bdef04b0bb5e74c153d0c1c82"
      }
     },
     "metadata": {},
     "output_type": "display_data"
    },
    {
     "data": {
      "application/vnd.jupyter.widget-view+json": {
       "model_id": "0552dd66b4ae443d930a1453ec5113b8"
      }
     },
     "metadata": {},
     "output_type": "display_data"
    }
   ],
   "source": [
    "from IPython.display import display\n",
    "import planner\n",
    "\n",
    "\n",
    "plan_text = \"\"\"\\\n",
    "do something c 5h\n",
    "do something d 6h\n",
    "\n",
    "future plan e\n",
    "future plan f\n",
    "\"\"\"\n",
    "controller = planner.PlanController(plan_text, \"8-6\", True, \"4h\", \"4h\")\n",
    "\n",
    "plan_text2 = \"\"\"\\\n",
    "do something a 30m\n",
    "do something b 1h10m\n",
    "\"\"\"\n",
    "controller2 = planner.PlanController(plan_text2, \"13:00\")\n",
    "\n",
    "display(controller.container)\n",
    "display(controller2.container)"
   ]
  },
  {
   "cell_type": "code",
   "execution_count": 2,
   "metadata": {},
   "outputs": [
    {
     "data": {
      "application/vnd.jupyter.widget-view+json": {
       "model_id": "0b27de90723f47e4879638a0883b0221"
      }
     },
     "metadata": {},
     "output_type": "display_data"
    }
   ],
   "source": [
    "from IPython.display import display\n",
    "import logger\n",
    "\n",
    "logs = [\n",
    "]\n",
    "log_controller = logger.LogController(logs)\n",
    "display(log_controller.container)"
   ]
  },
  {
   "cell_type": "code",
   "execution_count": null,
   "metadata": {
    "collapsed": true
   },
   "outputs": [],
   "source": []
  }
 ],
 "metadata": {
  "kernelspec": {
   "display_name": "Python 3",
   "language": "python",
   "name": "python3"
  },
  "language_info": {
   "codemirror_mode": {
    "name": "ipython",
    "version": 3
   },
   "file_extension": ".py",
   "mimetype": "text/x-python",
   "name": "python",
   "nbconvert_exporter": "python",
   "pygments_lexer": "ipython3",
   "version": "3.6.2"
  }
 },
 "nbformat": 4,
 "nbformat_minor": 1
}
