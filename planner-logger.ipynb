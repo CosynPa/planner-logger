{
 "cells": [
  {
   "cell_type": "code",
   "execution_count": 1,
   "metadata": {
    "scrolled": false
   },
   "outputs": [
    {
     "data": {
      "application/vnd.jupyter.widget-view+json": {
       "model_id": "f5debdcaf88b4b3287530862b5c4d801",
       "version_major": 2,
       "version_minor": 0
      },
      "text/html": [
       "<p>Failed to display Jupyter Widget of type <code>VBox</code>.</p>\n",
       "<p>\n",
       "  If you're reading this message in the Jupyter Notebook or JupyterLab Notebook, it may mean\n",
       "  that the widgets JavaScript is still loading. If this message persists, it\n",
       "  likely means that the widgets JavaScript library is either not installed or\n",
       "  not enabled. See the <a href=\"https://ipywidgets.readthedocs.io/en/stable/user_install.html\">Jupyter\n",
       "  Widgets Documentation</a> for setup instructions.\n",
       "</p>\n",
       "<p>\n",
       "  If you're reading this message in another frontend (for example, a static\n",
       "  rendering on GitHub or <a href=\"https://nbviewer.jupyter.org/\">NBViewer</a>),\n",
       "  it may mean that your frontend doesn't currently support widgets.\n",
       "</p>\n"
      ],
      "text/plain": [
       "VBox(children=(VBox(children=(PlannerLoggerItemBox(children=(Checkbox(value=False, indent=False, layout=Layout(width='20px')), Text(value='abc', layout=Layout(width='100px')), Checkbox(value=False, indent=False, layout=Layout(width='20px')), Label(value='0m', layout=Layout(width='50px')), HTML(value='<p style=\"color:green\">0m</p>', layout=Layout(width='50px')), Text(value='', description='First duration:', layout=Layout(width='150px'), style=DescriptionStyle(description_width='initial')), Text(value='', description='Last duration:', layout=Layout(width='150px'), style=DescriptionStyle(description_width='initial')), Text(value='', description='Start:', layout=Layout(width='100px'), style=DescriptionStyle(description_width='initial')), Button(description='Now', layout=Layout(width='auto'), style=ButtonStyle()), Button(description='Last', layout=Layout(width='auto'), style=ButtonStyle()), Text(value='', description='End:', layout=Layout(width='100px'), style=DescriptionStyle(description_width='initial')), Button(description='Now', layout=Layout(width='auto'), style=ButtonStyle()))), PlannerLoggerItemBox(children=(Checkbox(value=False, indent=False, layout=Layout(width='20px')), Text(value='', layout=Layout(width='100px')), Checkbox(value=False, indent=False, layout=Layout(width='20px')), Label(value='0m', layout=Layout(width='50px')), HTML(value='<p style=\"color:green\">0m</p>', layout=Layout(width='50px')), Text(value='', description='First duration:', layout=Layout(width='150px'), style=DescriptionStyle(description_width='initial')), Text(value='', description='Last duration:', layout=Layout(width='150px'), style=DescriptionStyle(description_width='initial')), Text(value='', description='Start:', layout=Layout(width='100px'), style=DescriptionStyle(description_width='initial')), Button(description='Now', layout=Layout(width='auto'), style=ButtonStyle()), Button(description='Last', layout=Layout(width='auto'), style=ButtonStyle()), Text(value='', description='End:', layout=Layout(width='100px'), style=DescriptionStyle(description_width='initial')), Button(description='Now', layout=Layout(width='auto'), style=ButtonStyle()))))), Button(description='+', style=ButtonStyle()), Button(description='Remove marks', style=ButtonStyle()), Button(description='Clear', style=ButtonStyle()), VBox(children=(Label(value='Marked:', layout=Layout(max_width='100%', width='100%')), Label(value='Total: 0m, plus: 0m, minus: 0m', layout=Layout(max_width='100%', width='100%')), Label(value='Not marked:', layout=Layout(max_width='100%', width='100%')), Label(value='Total: 0m, plus: 0m, minus: 0m', layout=Layout(max_width='100%', width='100%')))), Button(description='Default formula', style=ButtonStyle()), Text(value='marked_total - plan_time + previous_bonus * 0.5 + marked_plus * 0.5', description='Bonus formula', layout=Layout(width='90%'), style=DescriptionStyle(description_width='100px')), Text(value='10m', description='Plan time', style=DescriptionStyle(description_width='100px')), Text(value='20m', description='Previous bonus', style=DescriptionStyle(description_width='100px')), Label(value='Bonus: 0m')))"
      ]
     },
     "metadata": {},
     "output_type": "display_data"
    }
   ],
   "source": [
    "from IPython.display import display\n",
    "\n",
    "import planner_logger\n",
    "\n",
    "import importlib\n",
    "importlib.reload(planner_logger)\n",
    "\n",
    "controller = planner_logger.PlannerLoggerController(\"plan-logs\")\n",
    "display(controller.container)"
   ]
  },
  {
   "cell_type": "code",
   "execution_count": null,
   "metadata": {},
   "outputs": [],
   "source": []
  }
 ],
 "metadata": {
  "kernelspec": {
   "display_name": "Python 3",
   "language": "python",
   "name": "python3"
  },
  "language_info": {
   "codemirror_mode": {
    "name": "ipython",
    "version": 3
   },
   "file_extension": ".py",
   "mimetype": "text/x-python",
   "name": "python",
   "nbconvert_exporter": "python",
   "pygments_lexer": "ipython3",
   "version": "3.6.4"
  }
 },
 "nbformat": 4,
 "nbformat_minor": 2
}
